{
 "cells": [
  {
   "cell_type": "code",
   "execution_count": 7,
   "id": "60546cee",
   "metadata": {},
   "outputs": [
    {
     "data": {
      "text/plain": [
       "\"../data/sub_diagnosis_n88.csv\""
      ]
     },
     "metadata": {},
     "output_type": "display_data"
    }
   ],
   "source": [
    "using AutoEncoderToolkit\n",
    "using AutoEncoderToolkit.VAEs\n",
    "using Clustering                \n",
    "using Combinatorics\n",
    "using CUDA\n",
    "using CSV\n",
    "using DataFrames\n",
    "using DelimitedFiles\n",
    "using Distributions\n",
    "using Distances\n",
    "using FileIO\n",
    "using Flux\n",
    "using GaussianMixtures         \n",
    "using Glob\n",
    "using LinearAlgebra\n",
    "using MAT                      \n",
    "using Measures\n",
    "using MultivariateStats         \n",
    "using NIfTI\n",
    "using Plots\n",
    "using Printf\n",
    "using Random\n",
    "using RegressionDynamicCausalModeling\n",
    "using Statistics\n",
    "using StatsBase                \n",
    "using TSne\n",
    "using MultivariateStats: PCA, fit, transform\n",
    "\n",
    "include(\"../timeseries_and_connectivity/utils.jl\")\n",
    "include(\"utils_clustering.jl\")\n",
    "\n",
    "const FUNC_DIR = \"../data/FunImgARCFW_n88\"\n",
    "const RESULTS_DIR = \"../connectivity_n88\"\n",
    "const ATLAS_DIR = \"../data\"\n",
    "const FUNC_FILENAME = \"wFiltered_4DVolume.nii\"\n",
    "const ATLAS_FILENAME = \"BN_Atlas_246_3mm.nii\"\n",
    "const BNA_MATRIX_FILENAME = \"../data/BNA_matrix_binary_246x246.csv\"\n",
    "const SUBDIAGNOSIS_CSV_FILENAME = \"../data/sub_diagnosis_n88.csv\"\n",
    "\n",
    "\n"
   ]
  },
  {
   "cell_type": "markdown",
   "id": "fd90870c",
   "metadata": {},
   "source": [
    "1) Load Connectivity Data\n",
    "Load both rDCM and functional connectivity results from previously saved `.mat` files.\n",
    "\n",
    "This loads for each subject:\n",
    "- connectivity_data[\"<subject_id>\"][\"rdcm\"]\n",
    "- connectivity_data[\"<subject_id>\"][\"fc_mat\"]\n",
    "- connectivity_data[\"<subject_id>\"][\"fc_z\"]\n",
    "- connectivity_data[\"<subject_id>\"][\"cov_mat\"]"
   ]
  },
  {
   "cell_type": "code",
   "execution_count": null,
   "id": "58215b1c",
   "metadata": {},
   "outputs": [],
   "source": [
    "connectivity_data = load_connectivity_data(RESULTS_DIR; load_rdcm=true, load_functional=true)\n"
   ]
  },
  {
   "cell_type": "markdown",
   "id": "bdcec906",
   "metadata": {},
   "source": [
    "2) Mask and Flatten Matrices and Build Matrices for Analysis\n",
    " Apply the structural mask (BNA matrix) and flatten the connectivity matrices into vectors:\n",
    "\n",
    "These are stored as nested dictionaries where:\n",
    "- Keys are subject IDs,\n",
    "- Values are vectors of connectivity values.\n",
    "\n",
    "\n",
    "Transform connectivity vectors into subject × feature matrices. \n",
    "You can also extract specific types like functional connectivity. \n"
   ]
  },
  {
   "cell_type": "code",
   "execution_count": null,
   "id": "8f9b0787",
   "metadata": {},
   "outputs": [],
   "source": [
    "masked_connectivity_vectors = mask_and_flatten_connectivity_data(connectivity_data, BNA_MATRIX_FILENAME; mask=true)\n",
    "connectivity_vectors = mask_and_flatten_connectivity_data(connectivity_data, BNA_MATRIX_FILENAME; mask=false)\n",
    "subjectIDs =  extract_allSubjectIDs(RESULTS_DIR)\n",
    "\n",
    "\n",
    "masked_connectivity_matrix = get_connectivity_matrix(masked_connectivity_vectors, subjectIDs)\n",
    "connectivity_matrix = get_connectivity_matrix(connectivity_vectors, subjectIDs )\n",
    "matrix_fc = get_connectivity_matrix(connectivity_vectors, subjectIDs, \"fc_mat\")\n",
    "matrix_masked_fc = get_connectivity_matrix(masked_connectivity_vectors, subjectIDs, \"fc_mat\")\n"
   ]
  },
  {
   "cell_type": "markdown",
   "id": "d6fca0aa",
   "metadata": {},
   "source": [
    "3) Load Group Labels\n",
    " \n",
    "Load subject diagnostic labels from a CSV file:"
   ]
  },
  {
   "cell_type": "code",
   "execution_count": null,
   "id": "e046e020",
   "metadata": {},
   "outputs": [],
   "source": [
    "# Load CSV and skip the first row\n",
    "data_table = CSV.read(SUBDIAGNOSIS_CSV_FILENAME, DataFrame; delim=',', skipto=2)\n",
    "# Extract the 'group_1till5' column and convert to Int\n",
    "group_col = data_table[!, Symbol(\"group [1-4, 4=NC, 3=PTSD+TBI, 2=PTSD, 1=TBI]\")]\n",
    "group_array = convert(Vector{Int}, group_col)  # convert to a plain array of Ints"
   ]
  },
  {
   "cell_type": "markdown",
   "id": "701eafc0",
   "metadata": {},
   "source": [
    "\n",
    "The following parameters are defined  to control dimensionality reduction and clustering analysis:\n",
    "\n",
    "- `dims_list`: Latent dimensions to evaluate → [2, 10, 20, 50, 100]\n",
    "\n",
    "- `data_sources`: Connectivity data used for training:\n",
    "    - \"RDCM\" → rDCM-based connectivity\n",
    "    - \"FC\"   → functional connectivity (masked)\n",
    "\n",
    "- `methods`: Dimensionality reduction methods to compare:\n",
    "    - \"PCA\"\n",
    "    - \"tSNE\"\n",
    "    - \"VAE\"\n",
    "\n",
    "- `clustering_methods`: Clustering algorithms applied in the reduced space:\n",
    "    - \"kmeans\"\n",
    "    - \"fuzzy\"\n",
    "    - \"hierarchical\"\n",
    "\n",
    "- `repeats`: Number of repetitions per method and configuration → 1"
   ]
  },
  {
   "cell_type": "code",
   "execution_count": null,
   "id": "f9a09c49",
   "metadata": {},
   "outputs": [],
   "source": [
    "dims_list= [2, 10, 20, 50, 100]\n",
    "data_sources = Dict(\"RDCM\" => connectivity_matrix, \"FC\" => matrix_masked_fc)\n",
    "methods = [\"PCA\", \"tSNE\", \"VAE\"]\n",
    "repeats = 50\n",
    "clustering_methods = [\"kmeans\", \"fuzzy\",\"hierarchical\"]\n",
    "select_counts = [20, 20, 0, 20] # how many subjects are selected from each of four groups "
   ]
  },
  {
   "cell_type": "markdown",
   "id": "21223123",
   "metadata": {},
   "source": [
    "Training VAE for specified latent dimensions in dims_list_dimExp"
   ]
  },
  {
   "cell_type": "code",
   "execution_count": null,
   "id": "a5a85bb8",
   "metadata": {},
   "outputs": [],
   "source": [
    "# Dictionary to store all trained models and their metrics\n",
    "vae_results = Dict()\n",
    "n_epochs = 30\n",
    "\n",
    "# Loop over datasets and latent dimensions\n",
    "for (data_name, matrix) in data_sources\n",
    "    println(\"Training on dataset: $data_name\")\n",
    "\n",
    "    dataset_results = Dict()\n",
    "    matrix_f32 = Float32.((matrix))\n",
    "\n",
    "    for dim in dims_list\n",
    "        println(\"  Latent Dim: $dim\")\n",
    "\n",
    "        # Train the model\n",
    "        vae_model, metrics = train_vae_model(matrix_f32, dim, n_epochs)\n",
    "\n",
    "        # Save model and metrics\n",
    "        dataset_results[string(dim)] = (\n",
    "            model = vae_model,\n",
    "            metrics = metrics,\n",
    "        )\n",
    "    end\n",
    "\n",
    "    vae_results[data_name] = dataset_results\n",
    "end\n"
   ]
  },
  {
   "cell_type": "markdown",
   "id": "00f313f9",
   "metadata": {},
   "source": [
    "Run dimensionality reducation and clustering based on experiemntal parameters specified above "
   ]
  },
  {
   "cell_type": "code",
   "execution_count": null,
   "id": "27560fc9",
   "metadata": {},
   "outputs": [],
   "source": [
    "results, grouped, all_results = evaluate_dimensionality_reduction(\n",
    "    dims_list,\n",
    "    data_sources,\n",
    "    methods,\n",
    "    repeats,\n",
    "    clustering_methods,\n",
    "    vae_results,\n",
    "    group_array,\n",
    "    select_counts\n",
    ")\n",
    "\n",
    "# Access results:\n",
    "display(results)  # Summary DataFrame\n",
    "# === Summary Results DataFrame ===\n",
    "# This DataFrame contains one row per configuration tested across the pipeline.\n",
    "# It summarizes the clustering performance after dimensionality reduction.\n",
    "\n",
    "# Columns:\n",
    "# - Data        :: String   → Name of the dataset (\"RDCM\", \"FC\", etc.)\n",
    "# - Method      :: String   → Dimensionality reduction method used (\"PCA\", \"tSNE\", \"VAE\")\n",
    "# - Dims        :: Int64    → Latent dimension size\n",
    "# - Clustering  :: String   → Clustering algorithm used (\"kmeans\", \"fuzzy\", \"hierarchical\")\n",
    "# - MeanAcc     :: Float64  → Mean accuracy across repeats\n",
    "# - StdAcc      :: Float64  → Standard deviation of accuracy\n",
    "\n",
    "# Example:\n",
    "# Row\t   Data\t   Method\tDims\tClustering\t  MeanAcc   StdAcc\n",
    "# 1\t  RDCM\tPCA\t    2\t    kmeans\t      0.413667\t0.0285\n",
    "# 2\t  RDCM\tPCA\t    2\t    fuzzy\t        0.408333\t0.0176\n",
    "# 3\t  RDCM\tPCA\t    2\t    hierarchical\t0.413333\t0.0276\n",
    "# 4\t  RDCM\ttSNE\t  2\t    kmeans\t      0.413000\t0.0309\n"
   ]
  }
 ],
 "metadata": {
  "kernelspec": {
   "display_name": "Julia 1.11.5",
   "language": "julia",
   "name": "julia-1.11"
  },
  "language_info": {
   "file_extension": ".jl",
   "mimetype": "application/julia",
   "name": "julia",
   "version": "1.11.5"
  }
 },
 "nbformat": 4,
 "nbformat_minor": 5
}
