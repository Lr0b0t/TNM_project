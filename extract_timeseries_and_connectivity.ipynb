{
 "cells": [
  {
   "cell_type": "code",
   "execution_count": null,
   "id": "939dff6f",
   "metadata": {},
   "outputs": [
    {
     "data": {
      "text/plain": [
       "\"data/BNA_matrix_binary_246x246.csv\""
      ]
     },
     "metadata": {},
     "output_type": "display_data"
    }
   ],
   "source": [
    "using Pkg\n",
    "Pkg.instantiate()\n",
    "\n",
    "using NIfTI                  \n",
    "using RegressionDynamicCausalModeling\n",
    "using Statistics\n",
    "using StatsBase      \n",
    "using Plots\n",
    "using Random\n",
    "using DelimitedFiles\n",
    "using MAT            \n",
    "using Glob\n",
    "using Printf\n",
    "using FileIO\n",
    "using TSne\n",
    "\n",
    "\n",
    "\n",
    "include(\"utils.jl\")\n",
    "\n",
    "const FUNC_DIR = \"data/FunImgARCFW_n88\"\n",
    "const RESULTS_DIR = \"data/connectivity_n88\"\n",
    "const ATLAS_DIR = \"data\"\n",
    "const FUNC_FILENAME = \"wFiltered_4DVolume.nii\"\n",
    "const ATLAS_FILENAME = \"BN_Atlas_246_3mm.nii\"\n",
    "const BNA_MATRIX_FILENAME = \"data/BNA_matrix_binary_246x246.csv\"\n"
   ]
  },
  {
   "cell_type": "markdown",
   "id": "55d6b385",
   "metadata": {},
   "source": [
    "Step 1: Extract and Save Time Series\n"
   ]
  },
  {
   "cell_type": "code",
   "execution_count": null,
   "id": "138fb812",
   "metadata": {},
   "outputs": [],
   "source": [
    "extract_timeseries_for_all_subjects(FUNC_DIR, RESULTS_DIR, FUNC_FILENAME, ATLAS_DIR, ATLAS_FILENAME)"
   ]
  },
  {
   "cell_type": "markdown",
   "id": "58fe9ddb",
   "metadata": {},
   "source": [
    "Step 2: Compute and Save Functional Connectivity \n"
   ]
  },
  {
   "cell_type": "code",
   "execution_count": null,
   "id": "ea9a3470",
   "metadata": {},
   "outputs": [],
   "source": [
    "compute_func_connectivity_for_all_subjects(RESULTS_DIR)"
   ]
  },
  {
   "cell_type": "markdown",
   "id": "e5650c52",
   "metadata": {},
   "source": [
    "Step 3: Estimate and Save rDCM Models"
   ]
  },
  {
   "cell_type": "code",
   "execution_count": null,
   "id": "7ff8ce4b",
   "metadata": {},
   "outputs": [],
   "source": [
    "\n",
    "estimate_rdcm_for_all_subjects(\n",
    "    RESULTS_DIR,\n",
    "    ATLAS_FILENAME,\n",
    "    BNA_MATRIX_FILENAME;\n",
    "    verbose=true\n",
    ")"
   ]
  }
 ],
 "metadata": {
  "kernelspec": {
   "display_name": "Julia 1.11.4",
   "language": "julia",
   "name": "julia-1.11"
  },
  "language_info": {
   "file_extension": ".jl",
   "mimetype": "application/julia",
   "name": "julia",
   "version": "1.11.4"
  }
 },
 "nbformat": 4,
 "nbformat_minor": 5
}
